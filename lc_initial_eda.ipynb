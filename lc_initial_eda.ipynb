{
 "cells": [
  {
   "cell_type": "code",
   "execution_count": 86,
   "metadata": {},
   "outputs": [],
   "source": [
    "import pandas as pd\n",
    "import numpy as np\n",
    "from  datetime import datetime as dt\n",
    "import seaborn as sns\n",
    "from matplotlib import pyplot as plt\n",
    "pd.set_option('display.max_rows',100)\n",
    "pd.set_option('display.min_rows',100)\n",
    "pd.set_option('display.max_columns',150)"
   ]
  },
  {
   "cell_type": "code",
   "execution_count": 62,
   "metadata": {},
   "outputs": [],
   "source": [
    "data = pd.read_csv('accepted_2007_to_2018Q4.csv', low_memory=False)"
   ]
  },
  {
   "cell_type": "code",
   "execution_count": 5,
   "metadata": {},
   "outputs": [
    {
     "data": {
      "text/plain": [
       "Index(['id', 'member_id', 'loan_amnt', 'funded_amnt', 'funded_amnt_inv',\n",
       "       'term', 'int_rate', 'installment', 'grade', 'sub_grade',\n",
       "       ...\n",
       "       'hardship_payoff_balance_amount', 'hardship_last_payment_amount',\n",
       "       'disbursement_method', 'debt_settlement_flag',\n",
       "       'debt_settlement_flag_date', 'settlement_status', 'settlement_date',\n",
       "       'settlement_amount', 'settlement_percentage', 'settlement_term'],\n",
       "      dtype='object', length=151)"
      ]
     },
     "execution_count": 5,
     "metadata": {},
     "output_type": "execute_result"
    }
   ],
   "source": [
    "data.columns"
   ]
  },
  {
   "cell_type": "code",
   "execution_count": 63,
   "metadata": {},
   "outputs": [],
   "source": [
    "grade = data.groupby('grade')"
   ]
  },
  {
   "cell_type": "code",
   "execution_count": 64,
   "metadata": {},
   "outputs": [
    {
     "data": {
      "text/html": [
       "<div>\n",
       "<style scoped>\n",
       "    .dataframe tbody tr th:only-of-type {\n",
       "        vertical-align: middle;\n",
       "    }\n",
       "\n",
       "    .dataframe tbody tr th {\n",
       "        vertical-align: top;\n",
       "    }\n",
       "\n",
       "    .dataframe thead th {\n",
       "        text-align: right;\n",
       "    }\n",
       "</style>\n",
       "<table border=\"1\" class=\"dataframe\">\n",
       "  <thead>\n",
       "    <tr style=\"text-align: right;\">\n",
       "      <th></th>\n",
       "      <th>count</th>\n",
       "      <th>mean</th>\n",
       "      <th>median</th>\n",
       "      <th>std</th>\n",
       "    </tr>\n",
       "    <tr>\n",
       "      <th>grade</th>\n",
       "      <th></th>\n",
       "      <th></th>\n",
       "      <th></th>\n",
       "      <th></th>\n",
       "    </tr>\n",
       "  </thead>\n",
       "  <tbody>\n",
       "    <tr>\n",
       "      <th>A</th>\n",
       "      <td>433027</td>\n",
       "      <td>7.084545</td>\n",
       "      <td>7.24</td>\n",
       "      <td>0.984465</td>\n",
       "    </tr>\n",
       "    <tr>\n",
       "      <th>B</th>\n",
       "      <td>663557</td>\n",
       "      <td>10.675806</td>\n",
       "      <td>10.75</td>\n",
       "      <td>1.238302</td>\n",
       "    </tr>\n",
       "    <tr>\n",
       "      <th>C</th>\n",
       "      <td>650053</td>\n",
       "      <td>14.143689</td>\n",
       "      <td>13.99</td>\n",
       "      <td>1.251283</td>\n",
       "    </tr>\n",
       "    <tr>\n",
       "      <th>D</th>\n",
       "      <td>324424</td>\n",
       "      <td>18.143067</td>\n",
       "      <td>17.99</td>\n",
       "      <td>1.676964</td>\n",
       "    </tr>\n",
       "    <tr>\n",
       "      <th>E</th>\n",
       "      <td>135639</td>\n",
       "      <td>21.829653</td>\n",
       "      <td>21.48</td>\n",
       "      <td>2.703925</td>\n",
       "    </tr>\n",
       "    <tr>\n",
       "      <th>F</th>\n",
       "      <td>41800</td>\n",
       "      <td>25.454091</td>\n",
       "      <td>24.89</td>\n",
       "      <td>2.928144</td>\n",
       "    </tr>\n",
       "    <tr>\n",
       "      <th>G</th>\n",
       "      <td>12168</td>\n",
       "      <td>28.074255</td>\n",
       "      <td>28.18</td>\n",
       "      <td>2.804587</td>\n",
       "    </tr>\n",
       "  </tbody>\n",
       "</table>\n",
       "</div>"
      ],
      "text/plain": [
       "        count       mean  median       std\n",
       "grade                                     \n",
       "A      433027   7.084545    7.24  0.984465\n",
       "B      663557  10.675806   10.75  1.238302\n",
       "C      650053  14.143689   13.99  1.251283\n",
       "D      324424  18.143067   17.99  1.676964\n",
       "E      135639  21.829653   21.48  2.703925\n",
       "F       41800  25.454091   24.89  2.928144\n",
       "G       12168  28.074255   28.18  2.804587"
      ]
     },
     "execution_count": 64,
     "metadata": {},
     "output_type": "execute_result"
    }
   ],
   "source": [
    "grade.agg(['count','mean','median','std'])['int_rate']"
   ]
  },
  {
   "cell_type": "code",
   "execution_count": 108,
   "metadata": {
    "scrolled": true
   },
   "outputs": [
    {
     "data": {
      "text/html": [
       "<div>\n",
       "<style scoped>\n",
       "    .dataframe tbody tr th:only-of-type {\n",
       "        vertical-align: middle;\n",
       "    }\n",
       "\n",
       "    .dataframe tbody tr th {\n",
       "        vertical-align: top;\n",
       "    }\n",
       "\n",
       "    .dataframe thead th {\n",
       "        text-align: right;\n",
       "    }\n",
       "</style>\n",
       "<table border=\"1\" class=\"dataframe\">\n",
       "  <thead>\n",
       "    <tr style=\"text-align: right;\">\n",
       "      <th></th>\n",
       "      <th>count</th>\n",
       "      <th>mean</th>\n",
       "      <th>median</th>\n",
       "      <th>std</th>\n",
       "      <th>sum</th>\n",
       "    </tr>\n",
       "    <tr>\n",
       "      <th>grade</th>\n",
       "      <th></th>\n",
       "      <th></th>\n",
       "      <th></th>\n",
       "      <th></th>\n",
       "      <th></th>\n",
       "    </tr>\n",
       "  </thead>\n",
       "  <tbody>\n",
       "    <tr>\n",
       "      <th>A</th>\n",
       "      <td>433027</td>\n",
       "      <td>14603.343210</td>\n",
       "      <td>12000.0</td>\n",
       "      <td>9107.975657</td>\n",
       "      <td>6.323642e+09</td>\n",
       "    </tr>\n",
       "    <tr>\n",
       "      <th>B</th>\n",
       "      <td>663557</td>\n",
       "      <td>14173.338199</td>\n",
       "      <td>12000.0</td>\n",
       "      <td>8957.012601</td>\n",
       "      <td>9.404818e+09</td>\n",
       "    </tr>\n",
       "    <tr>\n",
       "      <th>C</th>\n",
       "      <td>650053</td>\n",
       "      <td>15038.083318</td>\n",
       "      <td>13000.0</td>\n",
       "      <td>9203.950054</td>\n",
       "      <td>9.775551e+09</td>\n",
       "    </tr>\n",
       "    <tr>\n",
       "      <th>D</th>\n",
       "      <td>324424</td>\n",
       "      <td>15711.983007</td>\n",
       "      <td>14400.0</td>\n",
       "      <td>9250.612823</td>\n",
       "      <td>5.097344e+09</td>\n",
       "    </tr>\n",
       "    <tr>\n",
       "      <th>E</th>\n",
       "      <td>135639</td>\n",
       "      <td>17453.078392</td>\n",
       "      <td>16000.0</td>\n",
       "      <td>9363.276694</td>\n",
       "      <td>2.367318e+09</td>\n",
       "    </tr>\n",
       "    <tr>\n",
       "      <th>F</th>\n",
       "      <td>41800</td>\n",
       "      <td>19124.646531</td>\n",
       "      <td>18175.0</td>\n",
       "      <td>9166.366254</td>\n",
       "      <td>7.994102e+08</td>\n",
       "    </tr>\n",
       "    <tr>\n",
       "      <th>G</th>\n",
       "      <td>12168</td>\n",
       "      <td>20383.988741</td>\n",
       "      <td>19800.0</td>\n",
       "      <td>8994.472986</td>\n",
       "      <td>2.480324e+08</td>\n",
       "    </tr>\n",
       "  </tbody>\n",
       "</table>\n",
       "</div>"
      ],
      "text/plain": [
       "        count          mean   median          std           sum\n",
       "grade                                                          \n",
       "A      433027  14603.343210  12000.0  9107.975657  6.323642e+09\n",
       "B      663557  14173.338199  12000.0  8957.012601  9.404818e+09\n",
       "C      650053  15038.083318  13000.0  9203.950054  9.775551e+09\n",
       "D      324424  15711.983007  14400.0  9250.612823  5.097344e+09\n",
       "E      135639  17453.078392  16000.0  9363.276694  2.367318e+09\n",
       "F       41800  19124.646531  18175.0  9166.366254  7.994102e+08\n",
       "G       12168  20383.988741  19800.0  8994.472986  2.480324e+08"
      ]
     },
     "execution_count": 108,
     "metadata": {},
     "output_type": "execute_result"
    }
   ],
   "source": [
    "grade.agg(['count','mean','median','std','sum'])['loan_amnt']"
   ]
  },
  {
   "cell_type": "code",
   "execution_count": 107,
   "metadata": {},
   "outputs": [
    {
     "data": {
      "text/plain": [
       "<matplotlib.axes._subplots.AxesSubplot at 0x1667c8dd8>"
      ]
     },
     "execution_count": 107,
     "metadata": {},
     "output_type": "execute_result"
    },
    {
     "data": {
      "image/png": "[encoded data removed]",
      "text/plain": [
       "<Figure size 432x288 with 1 Axes>"
      ]
     },
     "metadata": {
      "needs_background": "light"
     },
     "output_type": "display_data"
    }
   ],
   "source": [
    "# loan issued amount breakout by grade\n",
    "grade['loan_amnt'].sum().apply(lambda x: x/sum(data['loan_amnt'])).plot.bar()"
   ]
  },
  {
   "cell_type": "code",
   "execution_count": 114,
   "metadata": {},
   "outputs": [
    {
     "data": {
      "text/plain": [
       "<matplotlib.axes._subplots.AxesSubplot at 0x1371cb940>"
      ]
     },
     "execution_count": 114,
     "metadata": {},
     "output_type": "execute_result"
    },
    {
     "data": {
      "image/png": "[encoded data removed]",
      "text/plain": [
       "<Figure size 432x288 with 1 Axes>"
      ]
     },
     "metadata": {
      "needs_background": "light"
     },
     "output_type": "display_data"
    }
   ],
   "source": [
    "# loan issued count breakout by grade\n",
    "grade['loan_amnt'].count().apply(lambda x: x/#number of rows).plot.bar()"
   ]
  },
  {
   "cell_type": "code",
   "execution_count": 112,
   "metadata": {},
   "outputs": [
    {
     "data": {
      "text/plain": [
       "<matplotlib.axes._subplots.AxesSubplot at 0x198e4b0b8>"
      ]
     },
     "execution_count": 112,
     "metadata": {},
     "output_type": "execute_result"
    },
    {
     "data": {
      "image/png": "[encoded data removed]",
      "text/plain": [
       "<Figure size 432x288 with 1 Axes>"
      ]
     },
     "metadata": {
      "needs_background": "light"
     },
     "output_type": "display_data"
    }
   ],
   "source": [
    "# interest rate and grade boxplot\n",
    "data[['grade','int_rate']].boxplot(by='grade',column='int_rate')"
   ]
  },
  {
   "cell_type": "code",
   "execution_count": 65,
   "metadata": {},
   "outputs": [],
   "source": [
    "# 33 rows seem to have missing values across the board- removing those for EDA\n",
    "#data.isna().sum()"
   ]
  },
  {
   "cell_type": "code",
   "execution_count": 66,
   "metadata": {},
   "outputs": [],
   "source": [
    "# dropping rows with chronic na issues\n",
    "data = data.dropna(axis = 0, how = 'all', subset = ['issue_d'])"
   ]
  },
  {
   "cell_type": "code",
   "execution_count": 67,
   "metadata": {},
   "outputs": [
    {
     "name": "stderr",
     "output_type": "stream",
     "text": [
      "/anaconda3/lib/python3.7/site-packages/ipykernel_launcher.py:2: SettingWithCopyWarning: \n",
      "A value is trying to be set on a copy of a slice from a DataFrame.\n",
      "Try using .loc[row_indexer,col_indexer] = value instead\n",
      "\n",
      "See the caveats in the documentation: https://pandas.pydata.org/pandas-docs/stable/user_guide/indexing.html#returning-a-view-versus-a-copy\n",
      "  \n"
     ]
    }
   ],
   "source": [
    "#convert date issued to date format\n",
    "data['issue_d'] = data['issue_d'].apply(lambda x: dt.strptime(x,'%b-%Y').date())"
   ]
  },
  {
   "cell_type": "code",
   "execution_count": 76,
   "metadata": {},
   "outputs": [
    {
     "name": "stderr",
     "output_type": "stream",
     "text": [
      "/anaconda3/lib/python3.7/site-packages/ipykernel_launcher.py:1: SettingWithCopyWarning: \n",
      "A value is trying to be set on a copy of a slice from a DataFrame.\n",
      "Try using .loc[row_indexer,col_indexer] = value instead\n",
      "\n",
      "See the caveats in the documentation: https://pandas.pydata.org/pandas-docs/stable/user_guide/indexing.html#returning-a-view-versus-a-copy\n",
      "  \"\"\"Entry point for launching an IPython kernel.\n"
     ]
    }
   ],
   "source": [
    "#convert column from object to date\n",
    "data['issue_d'] = pd.to_datetime(data['issue_d'])"
   ]
  },
  {
   "cell_type": "code",
   "execution_count": 88,
   "metadata": {},
   "outputs": [
    {
     "data": {
      "text/plain": [
       "<matplotlib.axes._subplots.AxesSubplot at 0x1694226d8>"
      ]
     },
     "execution_count": 88,
     "metadata": {},
     "output_type": "execute_result"
    },
    {
     "data": {
      "image/png": "[encoded data removed]",
      "text/plain": [
       "<Figure size 432x288 with 1 Axes>"
      ]
     },
     "metadata": {
      "needs_background": "light"
     },
     "output_type": "display_data"
    }
   ],
   "source": [
    "#loan issue amount by year\n",
    "data.groupby(data.issue_d.dt.year).agg('sum')['loan_amnt'].plot.bar(color = 'b')"
   ]
  },
  {
   "cell_type": "code",
   "execution_count": 100,
   "metadata": {},
   "outputs": [
    {
     "data": {
      "text/plain": [
       "<matplotlib.axes._subplots.AxesSubplot at 0x1990a08d0>"
      ]
     },
     "execution_count": 100,
     "metadata": {},
     "output_type": "execute_result"
    },
    {
     "data": {
      "image/png": "[encoded data removed]",
      "text/plain": [
       "<Figure size 432x288 with 1 Axes>"
      ]
     },
     "metadata": {
      "needs_background": "light"
     },
     "output_type": "display_data"
    }
   ],
   "source": [
    "# sum of loan amounts issued by grade by year\n",
    "data.groupby([data.issue_d.dt.year,'grade'])['loan_amnt'].sum().unstack('grade').plot(kind='bar',stacked = True)"
   ]
  },
  {
   "cell_type": "code",
   "execution_count": 126,
   "metadata": {},
   "outputs": [
    {
     "data": {
      "text/plain": [
       "grade  loan_status                                        \n",
       "A      Charged Off                                            0.059797\n",
       "       Default                                                0.000021\n",
       "       Does not meet the credit policy. Status:Charged Off    0.000034\n",
       "       Does not meet the credit policy. Status:Fully Paid     0.000379\n",
       "       Fully Paid                                             0.930106\n",
       "       In Grace Period                                        0.002661\n",
       "       Late (16-30 days)                                      0.001436\n",
       "       Late (31-120 days)                                     0.005567\n",
       "B      Charged Off                                            0.131208\n",
       "       Default                                                0.000017\n",
       "       Does not meet the credit policy. Status:Charged Off    0.000212\n",
       "       Does not meet the credit policy. Status:Fully Paid     0.000671\n",
       "       Fully Paid                                             0.849042\n",
       "       In Grace Period                                        0.004420\n",
       "       Late (16-30 days)                                      0.002478\n",
       "       Late (31-120 days)                                     0.011950\n",
       "C      Charged Off                                            0.217193\n",
       "       Default                                                0.000020\n",
       "       Does not meet the credit policy. Status:Charged Off    0.000375\n",
       "       Does not meet the credit policy. Status:Fully Paid     0.001220\n",
       "       Fully Paid                                             0.750704\n",
       "       In Grace Period                                        0.007590\n",
       "       Late (16-30 days)                                      0.003743\n",
       "       Late (31-120 days)                                     0.019156\n",
       "D      Charged Off                                            0.291725\n",
       "       Default                                                0.000062\n",
       "       Does not meet the credit policy. Status:Charged Off    0.000941\n",
       "       Does not meet the credit policy. Status:Fully Paid     0.002360\n",
       "       Fully Paid                                             0.668458\n",
       "       In Grace Period                                        0.009074\n",
       "       Late (16-30 days)                                      0.004630\n",
       "       Late (31-120 days)                                     0.022749\n",
       "E      Charged Off                                            0.369366\n",
       "       Default                                                0.000062\n",
       "       Does not meet the credit policy. Status:Charged Off    0.001620\n",
       "       Does not meet the credit policy. Status:Fully Paid     0.003875\n",
       "       Fully Paid                                             0.590566\n",
       "       In Grace Period                                        0.008190\n",
       "       Late (16-30 days)                                      0.004121\n",
       "       Late (31-120 days)                                     0.022202\n",
       "F      Charged Off                                            0.434969\n",
       "       Default                                                0.000030\n",
       "       Does not meet the credit policy. Status:Charged Off    0.002792\n",
       "       Does not meet the credit policy. Status:Fully Paid     0.004623\n",
       "       Fully Paid                                             0.527300\n",
       "       In Grace Period                                        0.007204\n",
       "       Late (16-30 days)                                      0.003872\n",
       "       Late (31-120 days)                                     0.019211\n",
       "G      Charged Off                                            0.469958\n",
       "       Does not meet the credit policy. Status:Charged Off    0.007420\n",
       "       Does not meet the credit policy. Status:Fully Paid     0.012573\n",
       "       Fully Paid                                             0.471194\n",
       "       In Grace Period                                        0.010512\n",
       "       Late (16-30 days)                                      0.004019\n",
       "       Late (31-120 days)                                     0.024322\n",
       "Name: loan_status, dtype: float64"
      ]
     },
     "execution_count": 126,
     "metadata": {},
     "output_type": "execute_result"
    }
   ],
   "source": [
    "# loan outcomes by percent/grade\n",
    "status_group = data.loc[data.loan_status!='Current',:].groupby(['grade','loan_status'])['loan_status'].count()\n",
    "status_group.groupby(level = 0).apply(lambda x: x/float(x.sum()))"
   ]
  },
  {
   "cell_type": "code",
   "execution_count": null,
   "metadata": {},
   "outputs": [],
   "source": []
  },
  {
   "cell_type": "code",
   "execution_count": null,
   "metadata": {},
   "outputs": [],
   "source": []
  }
 ],
 "metadata": {
  "kernelspec": {
   "display_name": "Python 3",
   "language": "python",
   "name": "python3"
  },
  "language_info": {
   "codemirror_mode": {
    "name": "ipython",
    "version": 3
   },
   "file_extension": ".py",
   "mimetype": "text/x-python",
   "name": "python",
   "nbconvert_exporter": "python",
   "pygments_lexer": "ipython3",
   "version": "3.7.3"
  }
 },
 "nbformat": 4,
 "nbformat_minor": 4
}
